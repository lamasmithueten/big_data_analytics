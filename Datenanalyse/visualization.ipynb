{
 "cells": [
  {
   "cell_type": "code",
   "execution_count": null,
   "id": "efac57b9-dbc6-4f5a-8d57-91f1b90c3871",
   "metadata": {},
   "outputs": [],
   "source": [
    "import os\n",
    "import re\n",
    "import numpy as np\n",
    "import pandas as pd\n",
    "import seaborn as sn\n",
    "import matplotlib.pyplot as plt\n",
    "from sqlalchemy import create_engine\n",
    "from dotenv import load_dotenv"
   ]
  },
  {
   "cell_type": "code",
   "execution_count": null,
   "id": "75421402-8d9f-4983-bdd6-ebc26366505a",
   "metadata": {},
   "outputs": [],
   "source": [
    "load_dotenv() # load environment variables"
   ]
  },
  {
   "cell_type": "code",
   "execution_count": null,
   "id": "ab5551e3-4e0d-4962-a91a-aaabb89397ca",
   "metadata": {},
   "outputs": [],
   "source": [
    "# get the environment variables\n",
    "db_user = os.getenv(\"DB_USER\")\n",
    "db_password = os.getenv(\"DB_PASSWORD\")\n",
    "db_name = os.getenv(\"DB_NAME\")\n",
    "db_host = os.getenv(\"DB_HOST\")\n",
    "db_port = os.getenv(\"DB_PORT\")"
   ]
  },
  {
   "cell_type": "code",
   "execution_count": null,
   "id": "bb4ba8be-8220-4c59-b67d-46751b9fa8dc",
   "metadata": {},
   "outputs": [],
   "source": [
    "db_url = f\"postgresql://{db_user}:{db_password}@{db_host}:{db_port}/{db_name}\" # create the db url\n",
    "engine = create_engine(db_url)"
   ]
  },
  {
   "cell_type": "code",
   "execution_count": null,
   "id": "85b90bf0-6e1e-45ad-9acf-db3d222cefc1",
   "metadata": {},
   "outputs": [],
   "source": [
    "query = \"SELECT * FROM intel;\" # query to get the data from the database\n",
    "df = pd.read_sql(query, engine) # store the data in a dataframe"
   ]
  },
  {
   "cell_type": "code",
   "execution_count": null,
   "id": "79708094-8253-4d8b-b884-aa6e5c52dd2c",
   "metadata": {
    "scrolled": true
   },
   "outputs": [],
   "source": [
    "print(df.columns)"
   ]
  },
  {
   "cell_type": "code",
   "execution_count": null,
   "id": "0d4dcce7-8662-4a72-9754-5c5175d15ed3",
   "metadata": {},
   "outputs": [],
   "source": [
    "def convert_quarter_to_date(quarter_str):\n",
    "    quarter, year = quarter_str.split(\"'\")\n",
    "    year = int(\"20\" + year)\n",
    "    month = {\"Q1\": 1, \"Q2\": 4, \"Q3\": 7, \"Q4\": 10}[quarter]\n",
    "    return pd.Timestamp(year=year, month=month, day=1)\n",
    "\n",
    "df['einfuhrungsdatum'] = df['einfuhrungsdatum'].apply(convert_quarter_to_date)\n",
    "df['jahr'] = df['einfuhrungsdatum'].dt.year"
   ]
  },
  {
   "cell_type": "code",
   "execution_count": null,
   "id": "346f31c7-09cf-45cd-817f-b27d263d0ac9",
   "metadata": {},
   "outputs": [],
   "source": [
    "number_words = {\n",
    "    \"erste\": 1, \"zweite\": 2, \"dritte\": 3, \"vierte\": 4, \"fünfte\": 5,\n",
    "    \"sechste\": 6, \"siebte\": 7, \"achte\": 8, \"neunte\": 9, \"zehnte\": 10\n",
    "}\n",
    "\n",
    "def extract_generation(gen_text):\n",
    "    match_numeric = re.search(r'(\\d+)(?:\\.|th)?\\s?Gen', gen_text, re.IGNORECASE)\n",
    "    if match_numeric:\n",
    "        return int(match_numeric.group(1))\n",
    "    for word, num in number_words.items():\n",
    "        if word in gen_text.lower():\n",
    "            return num\n",
    "    return None\n",
    "\n",
    "df['generation'] = df['produktsortiment'].apply(extract_generation)"
   ]
  },
  {
   "cell_type": "code",
   "execution_count": null,
   "id": "ea628ac5-2563-40b6-afff-2e62ad8af4e1",
   "metadata": {},
   "outputs": [],
   "source": [
    "plt.figure(figsize=(10,6))\n",
    "sn.histplot (df['grundtaktfrequenz_des_prozessors_GHz'], bins=50, kde=True)\n",
    "plt.title(\"Verteilung der Prozessor-Taktfrequenzen\", fontsize=16)\n",
    "plt.xlabel(\"Grundtaktfrequenz [GHz]\", fontsize=12)\n",
    "plt.ylabel(\"Anzahl\", fontsize=12)\n",
    "plt.show()"
   ]
  },
  {
   "cell_type": "code",
   "execution_count": null,
   "id": "d50972f1-eafc-4139-b3b5-db014b337747",
   "metadata": {},
   "outputs": [],
   "source": [
    "plt.figure(figsize=(10, 6))\n",
    "sn.scatterplot(data=df, x='grundtaktfrequenz_des_prozessors_GHz', y='max_turbo_taktfrequenz_GHz', hue='generation')\n",
    "plt.title(\"Grundtaktfrequenz vs. Turbotaktfrequenz\", fontsize=16)\n",
    "plt.legend(title='Generation des Prozessors', fontsize=10, title_fontsize=12)\n",
    "plt.xlabel(\"Grundtaktfrequenz [GHz]\", fontsize=12)\n",
    "plt.ylabel(\"Turbotaktfrequenz (GHz)\", fontsize=12)\n",
    "plt.show()"
   ]
  },
  {
   "cell_type": "code",
   "execution_count": null,
   "id": "c0b77a00-8833-4762-949c-b71cc58062f1",
   "metadata": {},
   "outputs": [],
   "source": [
    "avg_clock_per_gen = df.groupby('generation')['grundtaktfrequenz_des_prozessors_GHz'].mean().reset_index()\n",
    "\n",
    "plt.figure(figsize=(10, 6))\n",
    "sn.barplot(data=avg_clock_per_gen, x='generation', y='grundtaktfrequenz_des_prozessors_GHz')\n",
    "plt.title(\"Durchschnittliche Taktfrequenz pro Generation\", fontsize=16)\n",
    "plt.xlabel(\"Generation\", fontsize=12)\n",
    "plt.ylabel(\"Grundtaktfrequenz [GHz]\", fontsize=12)\n",
    "\n",
    "for i, row in avg_clock_per_gen.iterrows():\n",
    "    if np.isnan(row['grundtaktfrequenz_des_prozessors_GHz']):\n",
    "        plt.text(i, 0, 'N/A', ha='center', va='bottom', fontsize=9)\n",
    "\n",
    "plt.show()"
   ]
  },
  {
   "cell_type": "code",
   "execution_count": null,
   "id": "994256cc-6ca2-40fa-9792-5cd233a29ef9",
   "metadata": {},
   "outputs": [],
   "source": [
    "performance_by_year = df.groupby('jahr')['grundtaktfrequenz_des_prozessors_GHz'].mean().reset_index()\n",
    "\n",
    "plt.figure(figsize=(10, 6))\n",
    "sn.lineplot(data=performance_by_year, x='jahr', y='grundtaktfrequenz_des_prozessors_GHz')\n",
    "plt.title(\"Leistungsentwicklung über die Generationen\", fontsize=16)\n",
    "plt.xlabel(\"Einführungsjahr\", fontsize=12)\n",
    "plt.ylabel(\"Durchschnittliche Grundtaktfrequenz [GHz]\", fontsize=12)\n",
    "plt.grid(axis='y', linestyle='--', alpha=0.7)\n",
    "plt.tight_layout()\n",
    "plt.show()"
   ]
  },
  {
   "cell_type": "code",
   "execution_count": null,
   "id": "ecce25b0-2488-49e4-ada5-a5b3fbc492b4",
   "metadata": {},
   "outputs": [],
   "source": [
    "plt.figure(figsize=(10, 6))\n",
    "sn.scatterplot(data=df, x='verlustleistung_tdp_W', y='grundtaktfrequenz_des_prozessors_GHz', hue='litographie_nm', palette='viridis', s=50)\n",
    "\n",
    "plt.title('TDP vs. Leistung', fontsize=16)\n",
    "plt.xlabel('Verlustleistung (TDP) [W]', fontsize=12)\n",
    "plt.ylabel('Grundtaktfrequenz [GHz]', fontsize=12)\n",
    "plt.legend(title='Litographie [nm]', fontsize=10, title_fontsize=12)\n",
    "plt.grid(visible=True, linestyle='--', alpha=0.5)\n",
    "plt.tight_layout()\n",
    "plt.show()"
   ]
  },
  {
   "cell_type": "code",
   "execution_count": null,
   "id": "b4f632bc-20f2-4ecc-92e3-af8efb7763f4",
   "metadata": {},
   "outputs": [],
   "source": [
    "plt.figure(figsize=(10, 6))\n",
    "sn.scatterplot(data=df, x='maximum_turbo_power_W', y='max_turbo_taktfrequenz_GHz', hue='anzahl_der_kerne', palette='viridis', s=50)\n",
    "\n",
    "plt.title('Energieverbrauch vs Leistung', fontsize=16)\n",
    "plt.xlabel('Maximale Turbo Power [W]', fontsize=12)\n",
    "plt.ylabel('Maximale Turbo Taktfrequenz [GHz]', fontsize=12)\n",
    "plt.legend(title='Anzahl der Kerne', fontsize=10, title_fontsize=12)\n",
    "plt.grid(visible=True, linestyle='--', alpha=0.5)\n",
    "plt.tight_layout()\n",
    "plt.show()"
   ]
  },
  {
   "cell_type": "code",
   "execution_count": null,
   "id": "c2d381f2-4014-4fba-86ca-138f5562daff",
   "metadata": {},
   "outputs": [],
   "source": [
    "heatmap_data=df.pivot_table(index='grundtaktfrequenz_der_grafik_MHz',columns='generation',values='max_videospeicher_der_grafik_GB')\n",
    "\n",
    "plt.figure(figsize=(10, 6))\n",
    "sn.heatmap(heatmap_data, annot=True, fmt=\".1f\", cmap=\"YlGnBu\", cbar_kws={'label': 'Maximaler Videospeicher (GB)'})\n",
    "plt.title(\"Grafikleistung der Prozessoren\", fontsize=16)\n",
    "plt.xlabel(\"Generation der Prozessoren\", fontsize=12)\n",
    "plt.ylabel(\"Grundtaktfrequenz der Grafik [MHz]\", fontsize=12)\n",
    "plt.tight_layout()\n",
    "plt.show()"
   ]
  },
  {
   "cell_type": "code",
   "execution_count": null,
   "id": "37df3d6f-4733-4dfd-aa23-b113f98d7cb4",
   "metadata": {},
   "outputs": [],
   "source": [
    "plt.figure(figsize=(10, 6))\n",
    "sn.countplot(data=df, x='litographie_nm', order=sorted(df['litographie_nm'], reverse=True))\n",
    "plt.title(\"Anzahl der Prozessoren pro Fertigungsgröße\", fontsize=16)\n",
    "plt.xlabel(\"Litographie [nm]\", fontsize=12)\n",
    "plt.ylabel(\"Anzahl\", fontsize=12)\n",
    "plt.show()"
   ]
  },
  {
   "cell_type": "code",
   "execution_count": null,
   "id": "3e942337-4970-4cd4-a3e0-54f3556791bc",
   "metadata": {},
   "outputs": [],
   "source": [
    "plt.figure(figsize=(10, 6))\n",
    "sn.barplot(data=df, x='litographie_nm', y='verlustleistung_tdp_W', errorbar=None)\n",
    "plt.title(\"Litographie vs. Verlustleistung\", fontsize=16)\n",
    "plt.xlabel(\"Litographie [nm]\", fontsize=12)\n",
    "plt.ylabel(\"Verlustleistung (TDP) [W]\", fontsize=12)\n",
    "plt.show()"
   ]
  },
  {
   "cell_type": "code",
   "execution_count": null,
   "id": "9daefdf6-ba23-48cf-9556-251dcbb845f9",
   "metadata": {},
   "outputs": [],
   "source": [
    "cache_by_year = df.groupby('jahr')['cache_MB'].mean().reset_index()\n",
    "\n",
    "plt.figure(figsize=(10, 6))\n",
    "sn.lineplot(data=cache_by_year, x='jahr', y='cache_MB')\n",
    "plt.title(\"Durchschnittliche Entwicklung des Caches über die Generationen\", fontsize=16)\n",
    "plt.xlabel(\"Einführungsjahr\", fontsize=12)\n",
    "plt.ylabel(\"Cachegröße [MB]\", fontsize=12)\n",
    "plt.grid(axis='y', linestyle='--', alpha=0.7)\n",
    "plt.tight_layout()\n",
    "plt.show()"
   ]
  },
  {
   "cell_type": "code",
   "execution_count": null,
   "id": "e046a035-f71e-48de-a5e3-6f71b5fa52cd",
   "metadata": {},
   "outputs": [],
   "source": [
    "plt.figure(figsize=(10, 6))\n",
    "sn.lineplot(data=df, x='jahr', y='anzahl_der_kerne', label='Anzahl der Kerne', marker='o', errorbar=None)\n",
    "sn.lineplot(data=df, x='jahr', y='gesamte_threads', label='Gesamte Threads', marker='o', errorbar=None)\n",
    "\n",
    "plt.title('Entwicklung von Kernen und Threads im Zeitverlauf', fontsize=16)\n",
    "plt.xlabel('Einführungsjahr', fontsize=12)\n",
    "plt.ylabel('Anzahl', fontsize=12)\n",
    "plt.legend(title='Parameter', fontsize=10, title_fontsize=12)\n",
    "plt.grid(visible=True, linestyle='--', alpha=0.7)\n",
    "\n",
    "plt.show()"
   ]
  },
  {
   "cell_type": "code",
   "execution_count": null,
   "id": "283d9c4d-a648-4395-82d5-f5f55570f1b4",
   "metadata": {},
   "outputs": [],
   "source": [
    "valid_years = df.dropna(subset=['x_of_performance_cores', 'x_of_efficiency_cores'])['jahr'].unique()\n",
    "\n",
    "plt.figure(figsize=(10, 6))\n",
    "sn.lineplot(data=df, x='jahr', y='x_of_performance_cores', label='Performance Cores', marker='o', errorbar=None)\n",
    "sn.lineplot(data=df, x='jahr', y='x_of_efficiency_cores', label='Efficiency Cores', marker='o', errorbar=None)\n",
    "\n",
    "plt.title('Entwicklung der Kernanzahl im Zeitverlauf', fontsize=16)\n",
    "plt.xlabel('Einführungsjahr', fontsize=12)\n",
    "plt.ylabel('Anzahl an Kernen', fontsize=12)\n",
    "plt.legend(title='Parameter', fontsize=10, title_fontsize=12)\n",
    "plt.grid(visible=True, linestyle='--', alpha=0.7)\n",
    "plt.xticks(ticks=valid_years)\n",
    "plt.show()"
   ]
  },
  {
   "cell_type": "code",
   "execution_count": null,
   "id": "3655a5ff-1df9-4f03-a773-9299aec50fdc",
   "metadata": {},
   "outputs": [],
   "source": [
    "plt.figure(figsize=(10, 6))\n",
    "sn.lineplot(data=df, x='jahr', y='verlustleistung_tdp_W', marker='o', errorbar=None)\n",
    "plt.title(\"Durchschnittliche Entwicklung der Verlustleistung über die Generationen\", fontsize=16)\n",
    "plt.xlabel(\"Einführungsjahr\", fontsize=12)\n",
    "plt.ylabel(\"Verlustleistung (TDP) [W]\", fontsize=12)\n",
    "plt.grid(axis='y', linestyle='--', alpha=0.7)\n",
    "plt.tight_layout()\n",
    "plt.show()"
   ]
  },
  {
   "cell_type": "code",
   "execution_count": null,
   "id": "041fa866-1931-41a8-8205-6fec3f5d7d30",
   "metadata": {},
   "outputs": [],
   "source": []
  },
  {
   "cell_type": "code",
   "execution_count": null,
   "id": "7765be33-3482-4eaf-9daa-81413a0e3bc7",
   "metadata": {},
   "outputs": [],
   "source": []
  }
 ],
 "metadata": {
  "kernelspec": {
   "display_name": "Python 3 (ipykernel)",
   "language": "python",
   "name": "python3"
  },
  "language_info": {
   "codemirror_mode": {
    "name": "ipython",
    "version": 3
   },
   "file_extension": ".py",
   "mimetype": "text/x-python",
   "name": "python",
   "nbconvert_exporter": "python",
   "pygments_lexer": "ipython3",
   "version": "3.12.7"
  }
 },
 "nbformat": 4,
 "nbformat_minor": 5
}
